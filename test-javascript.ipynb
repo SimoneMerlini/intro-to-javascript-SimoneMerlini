{
 "cells": [
  {
   "cell_type": "code",
   "execution_count": 1,
   "metadata": {},
   "outputs": [
    {
     "name": "stdout",
     "output_type": "stream",
     "text": [
      "Hello, World!\n"
     ]
    }
   ],
   "source": [
    "console.log('Hello, World!');"
   ]
  },
  {
   "cell_type": "markdown",
   "metadata": {},
   "source": [
    "##### Esempio di funzionamento di primitivi"
   ]
  },
  {
   "cell_type": "code",
   "execution_count": 2,
   "metadata": {},
   "outputs": [
    {
     "name": "stdout",
     "output_type": "stream",
     "text": [
      "15\n",
      "12\n"
     ]
    }
   ],
   "source": [
    "{\n",
    "    let numeri = 12;\n",
    "    let numeri2 = numeri;\n",
    "    numeri = 15;\n",
    "    console.log(numeri);\n",
    "    console.log(numeri2);\n",
    "}"
   ]
  },
  {
   "cell_type": "markdown",
   "metadata": {},
   "source": [
    "##### Typeof..."
   ]
  },
  {
   "cell_type": "code",
   "execution_count": 2,
   "metadata": {},
   "outputs": [
    {
     "data": {
      "text/plain": [
       "\u001b[32m\"number\"\u001b[39m"
      ]
     },
     "execution_count": 2,
     "metadata": {},
     "output_type": "execute_result"
    }
   ],
   "source": [
    "typeof 12;"
   ]
  },
  {
   "cell_type": "code",
   "execution_count": 4,
   "metadata": {},
   "outputs": [
    {
     "data": {
      "text/plain": [
       "\u001b[32m\"number\"\u001b[39m"
      ]
     },
     "execution_count": 4,
     "metadata": {},
     "output_type": "execute_result"
    }
   ],
   "source": [
    "typeof 1.5;"
   ]
  },
  {
   "cell_type": "code",
   "execution_count": 5,
   "metadata": {},
   "outputs": [
    {
     "data": {
      "text/plain": [
       "\u001b[32m\"string\"\u001b[39m"
      ]
     },
     "execution_count": 5,
     "metadata": {},
     "output_type": "execute_result"
    }
   ],
   "source": [
    "typeof \"Hello!\""
   ]
  },
  {
   "cell_type": "code",
   "execution_count": 6,
   "metadata": {},
   "outputs": [
    {
     "data": {
      "text/plain": [
       "\u001b[32m\"object\"\u001b[39m"
      ]
     },
     "execution_count": 6,
     "metadata": {},
     "output_type": "execute_result"
    }
   ],
   "source": [
    "typeof {};"
   ]
  },
  {
   "cell_type": "markdown",
   "metadata": {},
   "source": [
    "La causa di questo comportamento è data dal fatto che Javascript no è fortemente tipizzata e tratta tutti i numeri allo stesso modo."
   ]
  },
  {
   "cell_type": "markdown",
   "metadata": {},
   "source": [
    "Numeri..."
   ]
  },
  {
   "cell_type": "code",
   "execution_count": 1,
   "metadata": {},
   "outputs": [
    {
     "name": "stdout",
     "output_type": "stream",
     "text": [
      "0.30000000000000004\n"
     ]
    }
   ],
   "source": [
    "console.log(0.1 + 0.2);"
   ]
  },
  {
   "cell_type": "markdown",
   "metadata": {},
   "source": [
    "La causa di questo comportamento è la conversione da decimale a binario degli addendi. "
   ]
  },
  {
   "cell_type": "markdown",
   "metadata": {},
   "source": [
    "Concatenazione..."
   ]
  },
  {
   "cell_type": "code",
   "execution_count": 4,
   "metadata": {},
   "outputs": [
    {
     "name": "stdout",
     "output_type": "stream",
     "text": [
      "105\n"
     ]
    }
   ],
   "source": [
    "console.log(5 + 5 + '5');"
   ]
  },
  {
   "cell_type": "markdown",
   "metadata": {},
   "source": [
    "La causa di questo comportamento è la conversione dei primitivi in oggetti attuata da Javascript per modificarli."
   ]
  },
  {
   "cell_type": "markdown",
   "metadata": {},
   "source": [
    "== o ===..."
   ]
  },
  {
   "cell_type": "code",
   "execution_count": 3,
   "metadata": {},
   "outputs": [
    {
     "name": "stdout",
     "output_type": "stream",
     "text": [
      "true\n",
      "false\n"
     ]
    }
   ],
   "source": [
    "console.log(0 == '0');\n",
    "console.log(0 === '0');"
   ]
  },
  {
   "cell_type": "markdown",
   "metadata": {},
   "source": [
    "La causa di questo comportamento è la conversione delle stringhe in numeri auutata dal doppio \"=\" e non dal triplo."
   ]
  },
  {
   "cell_type": "markdown",
   "metadata": {},
   "source": [
    "Conversione..."
   ]
  },
  {
   "cell_type": "code",
   "execution_count": 2,
   "metadata": {},
   "outputs": [
    {
     "name": "stdout",
     "output_type": "stream",
     "text": [
      "HELLO, WORLD!\n"
     ]
    }
   ],
   "source": [
    "let myString = \"Hello, world!\";\n",
    "console.log(myString.toUpperCase());\n"
   ]
  },
  {
   "cell_type": "markdown",
   "metadata": {},
   "source": [
    "Array..."
   ]
  },
  {
   "cell_type": "code",
   "execution_count": 11,
   "metadata": {},
   "outputs": [
    {
     "name": "stdout",
     "output_type": "stream",
     "text": [
      "[ 1, 2, 3, 4, 5 ]\n",
      "5\n"
     ]
    }
   ],
   "source": [
    "let array = [1, 2, 3, 4, 5];\n",
    "console.log(array);\n",
    "console.log(array.length);"
   ]
  },
  {
   "cell_type": "markdown",
   "metadata": {},
   "source": [
    "Push e pop..."
   ]
  },
  {
   "cell_type": "code",
   "execution_count": 12,
   "metadata": {},
   "outputs": [
    {
     "name": "stdout",
     "output_type": "stream",
     "text": [
      "[ 1, 2, 3, 4, 5, 6 ]\n",
      "6\n",
      "[ 1, 2, 3, 4, 5 ]\n",
      "5\n"
     ]
    }
   ],
   "source": [
    "let arrayL = array.push(6);\n",
    "console.log(array);\n",
    "console.log(array.length);\n",
    "let lastElement = array.pop();\n",
    "console.log(array);\n",
    "console.log(array.length);"
   ]
  },
  {
   "cell_type": "markdown",
   "metadata": {},
   "source": [
    "La causa di questo comportamento è data dal fatto che Push crea una nuova cella nell'array e ci assegna il valore tra le parentesi mentre Pop rimuove l'ultima cella dell'array."
   ]
  },
  {
   "cell_type": "markdown",
   "metadata": {},
   "source": [
    "Somma accumulativa..."
   ]
  },
  {
   "cell_type": "code",
   "execution_count": 13,
   "metadata": {},
   "outputs": [
    {
     "name": "stdout",
     "output_type": "stream",
     "text": [
      "[ 1, 2, 3, 4, 5 ]\n",
      "15\n"
     ]
    }
   ],
   "source": [
    "let numbers = [1, 2, 3, 4, 5];\n",
    "let sum = numbers.reduce((accumulator, currentValue) => accumulator + currentValue, 0);\n",
    "console.log(numbers);\n",
    "console.log(sum);"
   ]
  },
  {
   "cell_type": "markdown",
   "metadata": {},
   "source": [
    "Moltiplicazione accumulativa..."
   ]
  },
  {
   "cell_type": "code",
   "execution_count": 5,
   "metadata": {},
   "outputs": [
    {
     "name": "stdout",
     "output_type": "stream",
     "text": [
      "[ 1, 2, 3, 4, 5 ]\n",
      "120\n"
     ]
    }
   ],
   "source": [
    "let numbers2 = [1, 2, 3, 4, 5];\n",
    "let mul = numbers.reduce((accumulator, currentValue) => accumulator * currentValue, 1);\n",
    "console.log(numbers);\n",
    "console.log(mul);"
   ]
  },
  {
   "cell_type": "markdown",
   "metadata": {},
   "source": [
    "Funzioni..."
   ]
  },
  {
   "cell_type": "code",
   "execution_count": 1,
   "metadata": {},
   "outputs": [
    {
     "name": "stdout",
     "output_type": "stream",
     "text": [
      "0\n",
      "1\n",
      "2\n",
      "3\n",
      "4\n",
      "5\n",
      "6\n",
      "7\n",
      "8\n",
      "9\n"
     ]
    }
   ],
   "source": [
    "function contatore() {\n",
    "    let conta = 0;\n",
    "    return function() {\n",
    "        return conta++;\n",
    "    };\n",
    "}\n",
    "\n",
    "const risposta = contatore();\n",
    "\n",
    "for(let i = 0; i < 10; i++) {\n",
    "    console.log(risposta());\n",
    "}"
   ]
  },
  {
   "cell_type": "markdown",
   "metadata": {},
   "source": [
    "La causa di questo comportamento è data dal fatto che la funzione, che altrimenti verrebbe distrutta, rimane attiva perche viene richiamata da una variabile che la definisce."
   ]
  },
  {
   "cell_type": "code",
   "execution_count": 5,
   "metadata": {},
   "outputs": [
    {
     "name": "stdout",
     "output_type": "stream",
     "text": [
      "4800\n",
      "576\n",
      "2\n"
     ]
    }
   ],
   "source": [
    "let numbers3 = [1, 2, 3, 4];\n",
    "\n",
    "function multiplyTs(...args: number[]) {\n",
    "    return args.reduce((a, b) => a * b);\n",
    "    }\n",
    "\n",
    "function multiplyJs() {\n",
    "    return [...arguments].reduce((a, b) => a * b);\n",
    "}\n",
    "    \n",
    "let numbersExtended = [...numbers3, 2, 3, 4];\n",
    "console.log(multiplyTs(...numbers3, 10, 20));\n",
    "console.log(multiplyJs(...numbersExtended));\n",
    "console.log(multiplyJs(2, 1, 1));"
   ]
  },
  {
   "cell_type": "markdown",
   "metadata": {},
   "source": [
    "Shallow copy..."
   ]
  },
  {
   "cell_type": "code",
   "execution_count": 7,
   "metadata": {},
   "outputs": [
    {
     "name": "stdout",
     "output_type": "stream",
     "text": [
      "false\n",
      "true\n"
     ]
    }
   ],
   "source": [
    "const oggetto = {\n",
    "    a : 10,\n",
    "    b: {\n",
    "        c: 20, \n",
    "        d: 30\n",
    "    }\n",
    "}\n",
    "\n",
    "const oggetto2 = {...oggetto};\n",
    "\n",
    "console.log(oggetto === oggetto2);\n",
    "console.log(oggetto.b === oggetto2.b);"
   ]
  }
 ],
 "metadata": {
  "kernelspec": {
   "display_name": "Deno",
   "language": "typescript",
   "name": "deno"
  },
  "language_info": {
   "file_extension": ".ts",
   "mimetype": "text/x.typescript",
   "name": "typescript",
   "nb_converter": "script",
   "pygments_lexer": "typescript",
   "version": "5.3.3"
  }
 },
 "nbformat": 4,
 "nbformat_minor": 4
}
